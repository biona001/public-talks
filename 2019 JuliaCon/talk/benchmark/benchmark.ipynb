{
 "cells": [
  {
   "cell_type": "code",
   "execution_count": 1,
   "metadata": {
    "collapsed": true
   },
   "outputs": [],
   "source": [
    "using SnpArrays\n",
    "using BenchmarkTools\n",
    "using LinearAlgebra\n",
    "using MendelIHT\n",
    "using Random"
   ]
  },
  {
   "cell_type": "markdown",
   "metadata": {},
   "source": [
    "# matrix size = 1.2 GB "
   ]
  },
  {
   "cell_type": "code",
   "execution_count": 7,
   "metadata": {
    "collapsed": false
   },
   "outputs": [
    {
     "data": {
      "text/plain": [
       "BenchmarkTools.Trial: \n",
       "  memory estimate:  39.14 KiB\n",
       "  allocs estimate:  2\n",
       "  --------------\n",
       "  minimum time:     656.730 ms (0.00% GC)\n",
       "  median time:      663.854 ms (0.00% GC)\n",
       "  mean time:        665.172 ms (0.00% GC)\n",
       "  maximum time:     696.631 ms (0.00% GC)\n",
       "  --------------\n",
       "  samples:          181\n",
       "  evals/sample:     1"
      ]
     },
     "execution_count": 7,
     "metadata": {},
     "output_type": "execute_result"
    }
   ],
   "source": [
    "n = 5000\n",
    "p = 30000\n",
    "b = rand(Float64, p)\n",
    "x = simulate_random_snparray(n, p, \"compressed.bed\")\n",
    "X = SnpBitMatrix{Float64}(x, model=ADDITIVE_MODEL, center=true, scale=true); \n",
    "@benchmark X * b seconds=120"
   ]
  },
  {
   "cell_type": "code",
   "execution_count": 8,
   "metadata": {
    "collapsed": false
   },
   "outputs": [
    {
     "data": {
      "text/plain": [
       "BenchmarkTools.Trial: \n",
       "  memory estimate:  39.14 KiB\n",
       "  allocs estimate:  2\n",
       "  --------------\n",
       "  minimum time:     55.934 ms (0.00% GC)\n",
       "  median time:      80.281 ms (0.00% GC)\n",
       "  mean time:        78.910 ms (0.02% GC)\n",
       "  maximum time:     96.908 ms (0.00% GC)\n",
       "  --------------\n",
       "  samples:          1520\n",
       "  evals/sample:     1"
      ]
     },
     "execution_count": 8,
     "metadata": {},
     "output_type": "execute_result"
    }
   ],
   "source": [
    "X = convert(Matrix{Float64}, x, center=true, scale=true)\n",
    "@benchmark X * b seconds=120"
   ]
  },
  {
   "cell_type": "markdown",
   "metadata": {},
   "source": [
    "# matrix size = 12 GB"
   ]
  },
  {
   "cell_type": "code",
   "execution_count": 4,
   "metadata": {
    "collapsed": false
   },
   "outputs": [
    {
     "data": {
      "text/plain": [
       "BenchmarkTools.Trial: \n",
       "  memory estimate:  39.14 KiB\n",
       "  allocs estimate:  2\n",
       "  --------------\n",
       "  minimum time:     5.591 s (0.00% GC)\n",
       "  median time:      5.612 s (0.00% GC)\n",
       "  mean time:        5.620 s (0.00% GC)\n",
       "  maximum time:     5.693 s (0.00% GC)\n",
       "  --------------\n",
       "  samples:          22\n",
       "  evals/sample:     1"
      ]
     },
     "execution_count": 4,
     "metadata": {},
     "output_type": "execute_result"
    }
   ],
   "source": [
    "p = 300000\n",
    "b = rand(Float64, p)\n",
    "x = simulate_random_snparray(n, p, \"compressed.bed\")\n",
    "X = SnpBitMatrix{Float64}(x, model=ADDITIVE_MODEL, center=true, scale=true); \n",
    "@benchmark X * b seconds=120"
   ]
  },
  {
   "cell_type": "code",
   "execution_count": 5,
   "metadata": {
    "collapsed": false
   },
   "outputs": [
    {
     "data": {
      "text/plain": [
       "BenchmarkTools.Trial: \n",
       "  memory estimate:  39.14 KiB\n",
       "  allocs estimate:  2\n",
       "  --------------\n",
       "  minimum time:     2.904 s (0.00% GC)\n",
       "  median time:      3.966 s (0.00% GC)\n",
       "  mean time:        3.962 s (0.00% GC)\n",
       "  maximum time:     4.763 s (0.00% GC)\n",
       "  --------------\n",
       "  samples:          31\n",
       "  evals/sample:     1"
      ]
     },
     "execution_count": 5,
     "metadata": {},
     "output_type": "execute_result"
    }
   ],
   "source": [
    "X = convert(Matrix{Float64}, x, center=true, scale=true)\n",
    "@benchmark X * b seconds=120"
   ]
  },
  {
   "cell_type": "markdown",
   "metadata": {},
   "source": [
    "# matrix size = 24 GB"
   ]
  },
  {
   "cell_type": "code",
   "execution_count": 6,
   "metadata": {
    "collapsed": false,
    "scrolled": true
   },
   "outputs": [
    {
     "data": {
      "text/plain": [
       "BenchmarkTools.Trial: \n",
       "  memory estimate:  39.14 KiB\n",
       "  allocs estimate:  2\n",
       "  --------------\n",
       "  minimum time:     11.209 s (0.00% GC)\n",
       "  median time:      11.227 s (0.00% GC)\n",
       "  mean time:        11.276 s (0.00% GC)\n",
       "  maximum time:     12.023 s (0.00% GC)\n",
       "  --------------\n",
       "  samples:          22\n",
       "  evals/sample:     1"
      ]
     },
     "execution_count": 6,
     "metadata": {},
     "output_type": "execute_result"
    }
   ],
   "source": [
    "p = 600000\n",
    "b = rand(Float64, p)\n",
    "x = simulate_random_snparray(n, p, \"compressed.bed\")\n",
    "X = SnpBitMatrix{Float64}(x, model=ADDITIVE_MODEL, center=true, scale=true); \n",
    "@benchmark X * b seconds=240"
   ]
  },
  {
   "cell_type": "code",
   "execution_count": 7,
   "metadata": {
    "collapsed": false,
    "scrolled": true
   },
   "outputs": [
    {
     "data": {
      "text/plain": [
       "BenchmarkTools.Trial: \n",
       "  memory estimate:  39.14 KiB\n",
       "  allocs estimate:  2\n",
       "  --------------\n",
       "  minimum time:     55.251 s (0.00% GC)\n",
       "  median time:      57.073 s (0.00% GC)\n",
       "  mean time:        57.089 s (0.00% GC)\n",
       "  maximum time:     60.701 s (0.00% GC)\n",
       "  --------------\n",
       "  samples:          5\n",
       "  evals/sample:     1"
      ]
     },
     "execution_count": 7,
     "metadata": {},
     "output_type": "execute_result"
    }
   ],
   "source": [
    "X = convert(Matrix{Float64}, x, center=true, scale=true)\n",
    "@benchmark X * b seconds=240"
   ]
  },
  {
   "cell_type": "markdown",
   "metadata": {},
   "source": [
    "# matrix size = 48 GB"
   ]
  },
  {
   "cell_type": "code",
   "execution_count": 9,
   "metadata": {
    "collapsed": false
   },
   "outputs": [
    {
     "data": {
      "text/plain": [
       "BenchmarkTools.Trial: \n",
       "  memory estimate:  39.14 KiB\n",
       "  allocs estimate:  2\n",
       "  --------------\n",
       "  minimum time:     26.407 s (0.00% GC)\n",
       "  median time:      26.540 s (0.00% GC)\n",
       "  mean time:        26.620 s (0.00% GC)\n",
       "  maximum time:     26.935 s (0.00% GC)\n",
       "  --------------\n",
       "  samples:          10\n",
       "  evals/sample:     1"
      ]
     },
     "execution_count": 9,
     "metadata": {},
     "output_type": "execute_result"
    }
   ],
   "source": [
    "p = 1200000\n",
    "b = rand(Float64, p)\n",
    "x = simulate_random_snparray(n, p, \"compressed.bed\")\n",
    "X = SnpBitMatrix{Float64}(x, model=ADDITIVE_MODEL, center=true, scale=true); \n",
    "@benchmark X * b seconds=240"
   ]
  },
  {
   "cell_type": "code",
   "execution_count": 10,
   "metadata": {
    "collapsed": false
   },
   "outputs": [
    {
     "data": {
      "text/plain": [
       "BenchmarkTools.Trial: \n",
       "  memory estimate:  39.14 KiB\n",
       "  allocs estimate:  2\n",
       "  --------------\n",
       "  minimum time:     172.849 s (0.00% GC)\n",
       "  median time:      175.689 s (0.00% GC)\n",
       "  mean time:        175.689 s (0.00% GC)\n",
       "  maximum time:     178.529 s (0.00% GC)\n",
       "  --------------\n",
       "  samples:          2\n",
       "  evals/sample:     1"
      ]
     },
     "execution_count": 10,
     "metadata": {},
     "output_type": "execute_result"
    }
   ],
   "source": [
    "X = convert(Matrix{Float64}, x, center=true, scale=true)\n",
    "@benchmark X * b seconds=240"
   ]
  },
  {
   "cell_type": "code",
   "execution_count": 11,
   "metadata": {
    "collapsed": true
   },
   "outputs": [],
   "source": [
    "rm(\"compressed.bed\", force=true)"
   ]
  },
  {
   "cell_type": "code",
   "execution_count": null,
   "metadata": {
    "collapsed": true
   },
   "outputs": [],
   "source": []
  }
 ],
 "metadata": {
  "@webio": {
   "lastCommId": null,
   "lastKernelId": null
  },
  "kernelspec": {
   "display_name": "Julia 1.0.3",
   "language": "julia",
   "name": "julia-1.0"
  },
  "language_info": {
   "file_extension": ".jl",
   "mimetype": "application/julia",
   "name": "julia",
   "version": "1.0.3"
  }
 },
 "nbformat": 4,
 "nbformat_minor": 2
}
